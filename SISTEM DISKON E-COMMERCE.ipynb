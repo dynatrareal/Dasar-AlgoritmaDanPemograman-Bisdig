{
  "nbformat": 4,
  "nbformat_minor": 0,
  "metadata": {
    "colab": {
      "provenance": []
    },
    "kernelspec": {
      "name": "python3",
      "display_name": "Python 3"
    },
    "language_info": {
      "name": "python"
    }
  },
  "cells": [
    {
      "cell_type": "markdown",
      "source": [
        "DALAM SISTEM E-COMMERCE, PELANGGAN MENDAPATKAN DISKON 10% JIKA BELANJA DI ATAS RP500.000."
      ],
      "metadata": {
        "id": "r0138OGz1nIw"
      }
    },
    {
      "cell_type": "code",
      "execution_count": 1,
      "metadata": {
        "colab": {
          "base_uri": "https://localhost:8080/"
        },
        "id": "uQX6mGGC1HOM",
        "outputId": "113c906a-6efa-4b83-c6cc-0eb76577261b"
      },
      "outputs": [
        {
          "output_type": "stream",
          "name": "stdout",
          "text": [
            "Masukkan total belanja: Rp599999\n",
            "Anda mendapatkan diskon 10%.\n",
            "Total bayar setelah diskon: Rp539999.10\n"
          ]
        }
      ],
      "source": [
        "def main():\n",
        "    try:\n",
        "        total_belanja = float(input(\"Masukkan total belanja: Rp\"))\n",
        "\n",
        "        if total_belanja > 500000:\n",
        "            diskon = total_belanja * 0.10\n",
        "            total_bayar = total_belanja - diskon\n",
        "            print(f\"Anda mendapatkan diskon 10%.\")\n",
        "            print(f\"Total bayar setelah diskon: Rp{total_bayar:.2f}\")\n",
        "        else:\n",
        "            print(f\"Total bayar: Rp{total_belanja:.2f}\")\n",
        "\n",
        "    except ValueError:\n",
        "        print(\"Input tidak valid. Harap masukkan angka.\")\n",
        "\n",
        "if __name__ == \"__main__\":\n",
        "    main()\n"
      ]
    }
  ]
}