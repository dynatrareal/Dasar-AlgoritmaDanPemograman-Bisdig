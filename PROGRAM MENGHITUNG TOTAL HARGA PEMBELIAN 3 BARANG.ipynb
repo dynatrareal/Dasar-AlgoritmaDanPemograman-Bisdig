{
  "nbformat": 4,
  "nbformat_minor": 0,
  "metadata": {
    "colab": {
      "provenance": []
    },
    "kernelspec": {
      "name": "python3",
      "display_name": "Python 3"
    },
    "language_info": {
      "name": "python"
    }
  },
  "cells": [
    {
      "cell_type": "markdown",
      "source": [
        "SEORANG KASIR TOKO INGIN SISTEM SEDERHANA UNTUK MENGHITUNG TOTAL HARGA PEMBELIAN 3 BARANG DAN MENAMPILKAN TOTALNYA."
      ],
      "metadata": {
        "id": "tARwJ2GF2byl"
      }
    },
    {
      "cell_type": "code",
      "execution_count": 1,
      "metadata": {
        "colab": {
          "base_uri": "https://localhost:8080/"
        },
        "id": "C17JcW452Utb",
        "outputId": "6711fdf2-8da5-49fb-90f6-2c11cee9c8a6"
      },
      "outputs": [
        {
          "output_type": "stream",
          "name": "stdout",
          "text": [
            "Program Menghitung Total Harga Pembelian 3 Barang\n",
            "Masukkan harga barang 1: 100000\n",
            "Masukkan harga barang 2: 250000\n",
            "Masukkan harga barang 3: 1500000\n",
            "Total harga yang harus dibayar: Rp 1,850,000.00\n"
          ]
        }
      ],
      "source": [
        "# Program menghitung total harga pembelian 3 barang\n",
        "\n",
        "def main():\n",
        "    print(\"Program Menghitung Total Harga Pembelian 3 Barang\")\n",
        "    try:\n",
        "        harga1 = float(input(\"Masukkan harga barang 1: \"))\n",
        "        harga2 = float(input(\"Masukkan harga barang 2: \"))\n",
        "        harga3 = float(input(\"Masukkan harga barang 3: \"))\n",
        "    except ValueError:\n",
        "        print(\"Input harus berupa angka!\")\n",
        "        return\n",
        "\n",
        "    total = harga1 + harga2 + harga3\n",
        "    print(f\"Total harga yang harus dibayar: Rp {total:,.2f}\")\n",
        "\n",
        "if __name__ == \"__main__\":\n",
        "    main()"
      ]
    }
  ]
}