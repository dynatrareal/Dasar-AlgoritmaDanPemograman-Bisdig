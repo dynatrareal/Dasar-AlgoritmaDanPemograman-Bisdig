{
  "nbformat": 4,
  "nbformat_minor": 0,
  "metadata": {
    "colab": {
      "provenance": []
    },
    "kernelspec": {
      "name": "python3",
      "display_name": "Python 3"
    },
    "language_info": {
      "name": "python"
    }
  },
  "cells": [
    {
      "cell_type": "markdown",
      "source": [
        "SEORANG SISWA INGIN MENGETAHUI APAKAH NILAI UJIANNYA MEMENUHI SYARAT LULUS BERDASARKAN RATA-RATA NILAI DARI 3 MATA PELAJARAN."
      ],
      "metadata": {
        "id": "3fyFFM4O3QSH"
      }
    },
    {
      "cell_type": "code",
      "execution_count": 1,
      "metadata": {
        "colab": {
          "base_uri": "https://localhost:8080/"
        },
        "id": "NxLn0fsC277i",
        "outputId": "5e46868a-0fa6-404d-c2d9-331e79aad032"
      },
      "outputs": [
        {
          "output_type": "stream",
          "name": "stdout",
          "text": [
            "Program Menentukan Status Kelulusan Siswa\n",
            "Masukkan nilai mata pelajaran 1: 85\n",
            "Masukkan nilai mata pelajaran 2: 75\n",
            "Masukkan nilai mata pelajaran 3: 70\n",
            "Rata-rata nilai: 76.67\n",
            "Status: Lulus\n"
          ]
        }
      ],
      "source": [
        "# Program untuk menghitung rata-rata nilai dan menentukan status kelulusan\n",
        "\n",
        "def main():\n",
        "    print(\"Program Menentukan Status Kelulusan Siswa\")\n",
        "    try:\n",
        "        nilai1 = float(input(\"Masukkan nilai mata pelajaran 1: \"))\n",
        "        nilai2 = float(input(\"Masukkan nilai mata pelajaran 2: \"))\n",
        "        nilai3 = float(input(\"Masukkan nilai mata pelajaran 3: \"))\n",
        "    except ValueError:\n",
        "        print(\"Input harus berupa angka!\")\n",
        "        return\n",
        "\n",
        "    rata_rata = (nilai1 + nilai2 + nilai3) / 3\n",
        "\n",
        "    print(f\"Rata-rata nilai: {rata_rata:.2f}\")\n",
        "\n",
        "    if rata_rata >= 75:\n",
        "        print(\"Status: Lulus\")\n",
        "    else:\n",
        "        print(\"Status: Tidak Lulus\")\n",
        "\n",
        "if __name__ == \"__main__\":\n",
        "    main()"
      ]
    }
  ]
}