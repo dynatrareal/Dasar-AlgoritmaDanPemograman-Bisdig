{
  "nbformat": 4,
  "nbformat_minor": 0,
  "metadata": {
    "colab": {
      "provenance": []
    },
    "kernelspec": {
      "name": "python3",
      "display_name": "Python 3"
    },
    "language_info": {
      "name": "python"
    }
  },
  "cells": [
    {
      "cell_type": "markdown",
      "source": [
        "MEMBUAT FUNGSI UNTUK MENGHITUNG FAKTORIAL DARI SUATU BILANGAN MENGGUNAKAN METODE REKURSIF."
      ],
      "metadata": {
        "id": "s7pKyoREsvMO"
      }
    },
    {
      "cell_type": "code",
      "execution_count": null,
      "metadata": {
        "colab": {
          "base_uri": "https://localhost:8080/"
        },
        "id": "0WOSqZuCsdc1",
        "outputId": "2ec67b99-887d-40d5-d483-5711022933de"
      },
      "outputs": [
        {
          "output_type": "stream",
          "name": "stdout",
          "text": [
            "Masukkan angka untuk menghitung faktorial: 6\n",
            "Faktorial dari 6 adalah 720\n"
          ]
        }
      ],
      "source": [
        "def factorial(n):\n",
        "    \"\"\"\n",
        "    Fungsi rekursif untuk menghitung faktorial dari suatu bilangan n.\n",
        "    Faktorial n (n!) adalah hasil perkalian n × (n-1) × ... × 1.\n",
        "    \"\"\"\n",
        "    if n == 0 or n == 1:\n",
        "        return 1\n",
        "    else:\n",
        "        return n * factorial(n - 1)\n",
        "\n",
        "def main():\n",
        "    try:\n",
        "        angka = int(input(\"Masukkan angka untuk menghitung faktorial: \"))\n",
        "        if angka < 0:\n",
        "            print(\"Faktorial tidak terdefinisi untuk angka negatif.\")\n",
        "        else:\n",
        "            hasil = factorial(angka)\n",
        "            print(f\"Faktorial dari {angka} adalah {hasil}\")\n",
        "    except ValueError:\n",
        "        print(\"Input tidak valid. Harap masukkan bilangan bulat.\")\n",
        "\n",
        "if __name__ == \"__main__\":\n",
        "    main()"
      ]
    }
  ]
}