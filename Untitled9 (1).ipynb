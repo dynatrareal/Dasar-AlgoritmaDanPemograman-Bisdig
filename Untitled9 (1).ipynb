{
  "nbformat": 4,
  "nbformat_minor": 0,
  "metadata": {
    "colab": {
      "provenance": []
    },
    "kernelspec": {
      "name": "python3",
      "display_name": "Python 3"
    },
    "language_info": {
      "name": "python"
    }
  },
  "cells": [
    {
      "cell_type": "markdown",
      "source": [
        "MEMBUAT SISTEM INPUT NILAI 5 SISWA DAN MENCARI NILAI TERTINGGI."
      ],
      "metadata": {
        "id": "XpJrDNetxXZ4"
      }
    },
    {
      "cell_type": "code",
      "execution_count": 1,
      "metadata": {
        "colab": {
          "base_uri": "https://localhost:8080/"
        },
        "id": "h_MVqfB9wBRM",
        "outputId": "fb6f4f11-7398-42ed-faca-f1c9c6f31f31"
      },
      "outputs": [
        {
          "output_type": "stream",
          "name": "stdout",
          "text": [
            "Masukkan nilai 5 siswa:\n",
            "Nilai siswa ke-1: 99\n",
            "Nilai siswa ke-2: 88\n",
            "Nilai siswa ke-3: 77\n",
            "Nilai siswa ke-4: 66\n",
            "Nilai siswa ke-5: 55\n",
            "Nilai tertinggi adalah 99.0 yang diperoleh siswa ke-1.\n"
          ]
        }
      ],
      "source": [
        "def main():\n",
        "    nilai_siswa = []\n",
        "\n",
        "    print(\"Masukkan nilai 5 siswa:\")\n",
        "    for i in range(5):\n",
        "        while True:\n",
        "            try:\n",
        "                nilai = float(input(f\"Nilai siswa ke-{i+1}: \"))\n",
        "                if nilai < 0 or nilai > 100:\n",
        "                    print(\"Nilai harus antara 0 sampai 100. Coba lagi.\")\n",
        "                    continue\n",
        "                nilai_siswa.append(nilai)\n",
        "                break\n",
        "            except ValueError:\n",
        "                print(\"Input tidak valid. Masukkan angka.\")\n",
        "\n",
        "    nilai_tertinggi = max(nilai_siswa)\n",
        "    siswa_tertinggi = nilai_siswa.index(nilai_tertinggi) + 1\n",
        "\n",
        "    print(f\"Nilai tertinggi adalah {nilai_tertinggi} yang diperoleh siswa ke-{siswa_tertinggi}.\")\n",
        "\n",
        "if __name__ == \"__main__\":\n",
        "    main()"
      ]
    }
  ]
}